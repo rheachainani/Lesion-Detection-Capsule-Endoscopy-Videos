{
 "cells": [
  {
   "cell_type": "code",
   "execution_count": 2,
   "id": "8028c5cc-4d7a-431e-b1bc-3ed4131524ef",
   "metadata": {},
   "outputs": [],
   "source": [
    "import os\n",
    "import tarfile\n",
    "import shutil"
   ]
  },
  {
   "cell_type": "code",
   "execution_count": 26,
   "id": "d7f7137a-9bad-48f2-a806-59a5fd7e0955",
   "metadata": {},
   "outputs": [],
   "source": [
    "# Paths\n",
    "BASE_DIR = r'C:\\Users\\rheac\\OneDrive\\Desktop\\college\\sem 6\\CV Project\\kvasir_capsule_labeled_images'\n",
    "OUTPUT_DIR = 'Processed_Kvasir_labeled_images'"
   ]
  },
  {
   "cell_type": "code",
   "execution_count": 30,
   "id": "19f623fa-29b1-42de-90a7-b6f69bb58e58",
   "metadata": {},
   "outputs": [
    {
     "name": "stdout",
     "output_type": "stream",
     "text": [
      "Base Directory Exists: True\n",
      "Files in Base Directory: ['ampulla_of_vater.tar.gz', 'angiectasia.tar.gz', 'blood_fresh.tar.gz', 'blood_hematin.tar.gz', 'erosion.tar.gz', 'erythema.tar.gz', 'foreign_body.tar.gz', 'ileocecal_valve.tar.gz', 'lymphangiectasia.tar.gz', 'normal_clean_mucosa.tar.gz', 'polyp.tar.gz', 'pylorus.tar.gz', 'reduced_mucosal_view.tar.gz', 'ulcer.tar.gz']\n"
     ]
    }
   ],
   "source": [
    "print(\"Base Directory Exists:\", os.path.exists(BASE_DIR))\n",
    "print(\"Files in Base Directory:\", os.listdir(BASE_DIR))"
   ]
  },
  {
   "cell_type": "code",
   "execution_count": 32,
   "id": "a06393c5-4b76-4b03-84a3-00774dbc3471",
   "metadata": {},
   "outputs": [
    {
     "name": "stdout",
     "output_type": "stream",
     "text": [
      "Extracting: C:\\Users\\rheac\\OneDrive\\Desktop\\college\\sem 6\\CV Project\\kvasir_capsule_labeled_images\\ampulla_of_vater.tar.gz\n",
      "Extracting: C:\\Users\\rheac\\OneDrive\\Desktop\\college\\sem 6\\CV Project\\kvasir_capsule_labeled_images\\angiectasia.tar.gz\n"
     ]
    },
    {
     "name": "stderr",
     "output_type": "stream",
     "text": [
      "C:\\Users\\rheac\\AppData\\Local\\Temp\\ipykernel_3840\\1265550507.py:11: DeprecationWarning: Python 3.14 will, by default, filter extracted tar archives and reject files or modify their metadata. Use the filter argument to control this behavior.\n",
      "  tar.extractall(BASE_DIR)\n"
     ]
    },
    {
     "name": "stdout",
     "output_type": "stream",
     "text": [
      "Extracting: C:\\Users\\rheac\\OneDrive\\Desktop\\college\\sem 6\\CV Project\\kvasir_capsule_labeled_images\\blood_fresh.tar.gz\n",
      "Extracting: C:\\Users\\rheac\\OneDrive\\Desktop\\college\\sem 6\\CV Project\\kvasir_capsule_labeled_images\\blood_hematin.tar.gz\n",
      "Extracting: C:\\Users\\rheac\\OneDrive\\Desktop\\college\\sem 6\\CV Project\\kvasir_capsule_labeled_images\\erosion.tar.gz\n",
      "Extracting: C:\\Users\\rheac\\OneDrive\\Desktop\\college\\sem 6\\CV Project\\kvasir_capsule_labeled_images\\erythema.tar.gz\n",
      "Extracting: C:\\Users\\rheac\\OneDrive\\Desktop\\college\\sem 6\\CV Project\\kvasir_capsule_labeled_images\\foreign_body.tar.gz\n",
      "Extracting: C:\\Users\\rheac\\OneDrive\\Desktop\\college\\sem 6\\CV Project\\kvasir_capsule_labeled_images\\ileocecal_valve.tar.gz\n",
      "Extracting: C:\\Users\\rheac\\OneDrive\\Desktop\\college\\sem 6\\CV Project\\kvasir_capsule_labeled_images\\lymphangiectasia.tar.gz\n",
      "Extracting: C:\\Users\\rheac\\OneDrive\\Desktop\\college\\sem 6\\CV Project\\kvasir_capsule_labeled_images\\normal_clean_mucosa.tar.gz\n",
      "Extracting: C:\\Users\\rheac\\OneDrive\\Desktop\\college\\sem 6\\CV Project\\kvasir_capsule_labeled_images\\polyp.tar.gz\n",
      "Extracting: C:\\Users\\rheac\\OneDrive\\Desktop\\college\\sem 6\\CV Project\\kvasir_capsule_labeled_images\\pylorus.tar.gz\n",
      "Extracting: C:\\Users\\rheac\\OneDrive\\Desktop\\college\\sem 6\\CV Project\\kvasir_capsule_labeled_images\\reduced_mucosal_view.tar.gz\n",
      "Extracting: C:\\Users\\rheac\\OneDrive\\Desktop\\college\\sem 6\\CV Project\\kvasir_capsule_labeled_images\\ulcer.tar.gz\n"
     ]
    }
   ],
   "source": [
    "# Extracting .tar.gz files\n",
    "if not os.path.exists(OUTPUT_DIR):\n",
    "    os.makedirs(OUTPUT_DIR)\n",
    "\n",
    "for file in os.listdir(BASE_DIR):\n",
    "    if file.endswith(\".tar.gz\"):\n",
    "        tar_path = os.path.join(BASE_DIR, file)\n",
    "        print(f\"Extracting: {tar_path}\")\n",
    "        \n",
    "        with tarfile.open(tar_path, 'r:gz') as tar:\n",
    "            tar.extractall(BASE_DIR)"
   ]
  },
  {
   "cell_type": "code",
   "execution_count": 34,
   "id": "521b07a0-a9f3-4848-b8e8-32ae048dc879",
   "metadata": {},
   "outputs": [
    {
     "name": "stdout",
     "output_type": "stream",
     "text": [
      "Dataset restructured and renamed successfully!\n"
     ]
    }
   ],
   "source": [
    "# Reorganizing and renaming files\n",
    "for folder in os.listdir(BASE_DIR):\n",
    "    folder_path = os.path.join(BASE_DIR, folder)\n",
    "    \n",
    "    # Ignore non-directories\n",
    "    if not os.path.isdir(folder_path):\n",
    "        continue\n",
    "    \n",
    "    # Create class folder in the output directory\n",
    "    dest_folder = os.path.join(OUTPUT_DIR, folder)\n",
    "    os.makedirs(dest_folder, exist_ok=True)\n",
    "    \n",
    "    # Handle nested structure (if exists)\n",
    "    inner_folder = os.path.join(folder_path, folder)\n",
    "    if not os.path.exists(inner_folder):\n",
    "        inner_folder = folder_path  # No nested folder, use top-level\n",
    "    \n",
    "    # Rename and move images\n",
    "    count = 1\n",
    "    for img_file in os.listdir(inner_folder):\n",
    "        src_path = os.path.join(inner_folder, img_file)\n",
    "        \n",
    "        # Rename format: ClassName_0001.jpg\n",
    "        new_filename = f\"{folder}_{count:04d}.jpg\"\n",
    "        dst_path = os.path.join(dest_folder, new_filename)\n",
    "        \n",
    "        shutil.move(src_path, dst_path)\n",
    "        count += 1\n",
    "    \n",
    "    # Cleanup: Remove original extracted folder\n",
    "    shutil.rmtree(folder_path)\n",
    "\n",
    "print(\"Dataset restructured and renamed successfully!\")"
   ]
  }
 ],
 "metadata": {
  "kernelspec": {
   "display_name": "Python 3 (ipykernel)",
   "language": "python",
   "name": "python3"
  },
  "language_info": {
   "codemirror_mode": {
    "name": "ipython",
    "version": 3
   },
   "file_extension": ".py",
   "mimetype": "text/x-python",
   "name": "python",
   "nbconvert_exporter": "python",
   "pygments_lexer": "ipython3",
   "version": "3.12.7"
  }
 },
 "nbformat": 4,
 "nbformat_minor": 5
}
